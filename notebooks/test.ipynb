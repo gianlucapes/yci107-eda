{
 "cells": [
  {
   "cell_type": "code",
   "execution_count": 1,
   "id": "7bcbc836",
   "metadata": {},
   "outputs": [
    {
     "name": "stderr",
     "output_type": "stream",
     "text": [
      "/home/xamon/Documenti/yci107/yci107-eda/.venv/lib/python3.13/site-packages/tqdm/auto.py:21: TqdmWarning: IProgress not found. Please update jupyter and ipywidgets. See https://ipywidgets.readthedocs.io/en/stable/user_install.html\n",
      "  from .autonotebook import tqdm as notebook_tqdm\n"
     ]
    }
   ],
   "source": [
    "from transformers import AutoModelForSequenceClassification, AutoTokenizer\n",
    "\n",
    "# Carica modello e tokenizer salvati\n",
    "model = AutoModelForSequenceClassification.from_pretrained(\"./yc107-comment-classifier\")\n",
    "tokenizer = AutoTokenizer.from_pretrained(\"./yc107-comment-classifier\")"
   ]
  },
  {
   "cell_type": "code",
   "execution_count": 2,
   "id": "d4a8a10b",
   "metadata": {},
   "outputs": [
    {
     "name": "stdout",
     "output_type": "stream",
     "text": [
      "tensor([2, 6, 0, 2, 2])\n"
     ]
    }
   ],
   "source": [
    "texts = [\"Sei un coglione\", \"La luna è fatta di formaggio e i vaccini di latte\",\"Ma resta di fatto che Atletico Madrid Arsenal e Manchester United restano club che spendono e espandono ma non vincono da 20 anni o più  scudetti e Champions League , i soldi non fanno sempre la felicità e non ti garantiscono trofei sicuri  esempio Real Madrid e Inter non comprano 74 giocatori ogni anno però vincono scudetti e champions\"\n",
    "         ,\"è fallo pd  non capisci veramente nulla\",\"Purtroppo queste ragazze non apprezzano i nostri figli,,,,e ce li mettono contro,,,,,, Non capiscono che noi madri vogliamo solo vederli Felici 😢\"]\n",
    "\n",
    "# Tokenizza il testo\n",
    "inputs = tokenizer(texts, padding=True, truncation=True, return_tensors=\"pt\")\n",
    "\n",
    "# Passa al modello\n",
    "outputs = model(**inputs)\n",
    "\n",
    "# Prendi la classe predetta\n",
    "predictions = outputs.logits.argmax(dim=-1)\n",
    "\n",
    "print(predictions)  # array di indici corrispondenti alle categorie"
   ]
  },
  {
   "cell_type": "code",
   "execution_count": 3,
   "id": "cc442cc3",
   "metadata": {},
   "outputs": [
    {
     "name": "stdout",
     "output_type": "stream",
     "text": [
      "['Negativo', 'Disinformazione', 'Neutrale', 'Negativo', 'Negativo']\n"
     ]
    }
   ],
   "source": [
    "id2label={\n",
    "  0: 'Neutrale',\n",
    "  1: 'Positiva',\n",
    "  2: 'Negativo',\n",
    "  3: 'Discriminatorio',\n",
    "  4: 'Complottismo',\n",
    "  5: 'Allarmismo',\n",
    "  6: 'Disinformazione',\n",
    "  7: 'Estremismi ideologici'\n",
    "}\n",
    "\n",
    "# Converti predizioni in etichette testuali\n",
    "pred_labels = [id2label[i.item()] for i in predictions]\n",
    "print(pred_labels)\n"
   ]
  }
 ],
 "metadata": {
  "kernelspec": {
   "display_name": "yci107-eda (3.13.7)",
   "language": "python",
   "name": "python3"
  },
  "language_info": {
   "codemirror_mode": {
    "name": "ipython",
    "version": 3
   },
   "file_extension": ".py",
   "mimetype": "text/x-python",
   "name": "python",
   "nbconvert_exporter": "python",
   "pygments_lexer": "ipython3",
   "version": "3.13.7"
  }
 },
 "nbformat": 4,
 "nbformat_minor": 5
}
