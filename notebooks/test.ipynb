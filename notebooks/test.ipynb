{
 "cells": [
  {
   "cell_type": "code",
   "execution_count": 4,
   "id": "7bcbc836",
   "metadata": {},
   "outputs": [],
   "source": [
    "from transformers import AutoModelForSequenceClassification, AutoTokenizer\n",
    "\n",
    "# Carica modello e tokenizer salvati\n",
    "model = AutoModelForSequenceClassification.from_pretrained(\"./my_finetuned_model\")\n",
    "tokenizer = AutoTokenizer.from_pretrained(\"./my_finetuned_model\")"
   ]
  },
  {
   "cell_type": "code",
   "execution_count": 5,
   "id": "d4a8a10b",
   "metadata": {},
   "outputs": [
    {
     "name": "stdout",
     "output_type": "stream",
     "text": [
      "tensor([1, 2])\n"
     ]
    }
   ],
   "source": [
    "texts = [\"Forza liverpool\", \"La luna è fatta di formaggio\"]\n",
    "\n",
    "# Tokenizza il testo\n",
    "inputs = tokenizer(texts, padding=True, truncation=True, return_tensors=\"pt\")\n",
    "\n",
    "# Passa al modello\n",
    "outputs = model(**inputs)\n",
    "\n",
    "# Prendi la classe predetta\n",
    "predictions = outputs.logits.argmax(dim=-1)\n",
    "\n",
    "print(predictions)  # array di indici corrispondenti alle categorie"
   ]
  },
  {
   "cell_type": "code",
   "execution_count": 7,
   "id": "cc442cc3",
   "metadata": {},
   "outputs": [
    {
     "name": "stdout",
     "output_type": "stream",
     "text": [
      "['Positiva', 'Negativo']\n"
     ]
    }
   ],
   "source": [
    "id2label={\n",
    "  0: 'Neutrale',\n",
    "  1: 'Positiva',\n",
    "  2: 'Negativo',\n",
    "  3: 'Discriminatorio',\n",
    "  4: 'Complottismo',\n",
    "  5: 'Allarmismo',\n",
    "  6: 'Disinformazione',\n",
    "  7: 'Estremismi ideologici'\n",
    "}\n",
    "\n",
    "# Converti predizioni in etichette testuali\n",
    "pred_labels = [id2label[i.item()] for i in predictions]\n",
    "print(pred_labels)\n"
   ]
  }
 ],
 "metadata": {
  "kernelspec": {
   "display_name": "yci107-eda (3.13.7)",
   "language": "python",
   "name": "python3"
  },
  "language_info": {
   "codemirror_mode": {
    "name": "ipython",
    "version": 3
   },
   "file_extension": ".py",
   "mimetype": "text/x-python",
   "name": "python",
   "nbconvert_exporter": "python",
   "pygments_lexer": "ipython3",
   "version": "3.13.7"
  }
 },
 "nbformat": 4,
 "nbformat_minor": 5
}
